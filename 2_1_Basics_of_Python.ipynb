{
  "nbformat": 4,
  "nbformat_minor": 0,
  "metadata": {
    "colab": {
      "provenance": [],
      "authorship_tag": "ABX9TyOL1zTFy8OTTtEOKiw1mBDh",
      "include_colab_link": true
    },
    "kernelspec": {
      "name": "python3",
      "display_name": "Python 3"
    },
    "language_info": {
      "name": "python"
    }
  },
  "cells": [
    {
      "cell_type": "markdown",
      "metadata": {
        "id": "view-in-github",
        "colab_type": "text"
      },
      "source": [
        "<a href=\"https://colab.research.google.com/github/im-pranaygupta/Basics-of-python/blob/main/2_1_Basics_of_Python.ipynb\" target=\"_parent\"><img src=\"https://colab.research.google.com/assets/colab-badge.svg\" alt=\"Open In Colab\"/></a>"
      ]
    },
    {
      "cell_type": "markdown",
      "source": [
        "```\n",
        "Q1. L is a list defined as L= [11, 12, 13, 14].\n",
        "(i) WAP to add 50 and 60 to L.\n",
        "(ii) WAP to remove 11 and 13from L.\n",
        "(iii) WAP to sort L in ascending order.\n",
        "(iv) WAP to sort L in descending order.\n",
        "(v) WAP to search for 13 in L.\n",
        "(vi) WAP to count the number of elements present in L.\n",
        "(vii) WAP to sum all the elements in L.\n",
        "(viii) WAP to sum all ODD numbers in L.\n",
        "(ix) WAP to sum all EVEN numbers in L.\n",
        "(x) WAP to sum all PRIME numbers in L.\n",
        "(xi) WAP to clear all the elements in L.\n",
        "(xii) WAP to delete L.\n",
        "```"
      ],
      "metadata": {
        "id": "ETCCy2l-XicD"
      }
    },
    {
      "cell_type": "code",
      "source": [
        "L = [11, 12, 13, 14]\n",
        "\n",
        "L.append(50)    # add 50 and 60 to L.\n",
        "L.append(60)\n",
        "print(\"After Adding : \", L)\n",
        "\n",
        "L.remove(11)   # remove 11 and 13 from L.\n",
        "L.remove(13)\n",
        "print(\"After Removing : \" ,L)\n",
        "\n",
        "L.sort()      # sort L in ascending order.\n",
        "print(\"Ascending Order : \" ,L)\n",
        "\n",
        "L.sort(reverse=True)     # sort L in descending order.\n",
        "print(\"Descending Order : \" ,L)\n",
        "\n",
        "if(13 in L) == True:    # search for 13 in L.\n",
        "  print(\"13 is Present\")\n",
        "else:\n",
        "  print(\"13 is Not present\")\n",
        "\n",
        "print(\"Number of elements in list : \" ,len(L))   # count the number of elements present in L.\n",
        "\n",
        "sum = 0\n",
        "for i in range(0,len(L)):\n",
        "  sum = sum + L[i]\n",
        "print(\"Sum of elements in list : \" ,sum)   # sum all the elements in L\n",
        "\n",
        "sum0 = 0\n",
        "for i in range(0,len(L)):    # sum all ODD numbers in L.\n",
        "  if(L[i]%2!=0):\n",
        "    sum0 = sum0 + L[i]\n",
        "print(\"Sum of all ODD elements in a list : \" ,sum0)\n",
        "\n",
        "sum1 = 0\n",
        "for i in range(0,len(L)):   # sum all EVEN numbers in L.\n",
        "  if(L[i]%2==0):\n",
        "    sum1 = sum1 + L[i]\n",
        "print(\"Sum of all EVEN elements in a list : \", sum1)\n",
        "\n",
        "sum2 = 0\n",
        "flag = 0\n",
        "for i in range(0,len(L)):    # sum all PRIME numbers in L.\n",
        "  for j in range(1,len(L)//2):\n",
        "    if(L[i]%j==0):\n",
        "       flag = 1;\n",
        "  if(flag==0):\n",
        "    sum2 = sum2 + L[i]\n",
        "print(\"Sum of all the prime elements in a list : \" ,sum2)\n",
        "\n",
        "L.clear()\n",
        "print(\"Cleared List : \" ,L)   # clear all the elements in L.\n",
        "\n",
        "del(L)  # delete list"
      ],
      "metadata": {
        "colab": {
          "base_uri": "https://localhost:8080/"
        },
        "id": "224sDxLKjfhk",
        "outputId": "acdb91aa-22f6-4267-b6ed-1208846fbb7e"
      },
      "execution_count": null,
      "outputs": [
        {
          "output_type": "stream",
          "name": "stdout",
          "text": [
            "After Adding :  [11, 12, 13, 14, 50, 60]\n",
            "After Removing :  [12, 14, 50, 60]\n",
            "Ascending Order :  [12, 14, 50, 60]\n",
            "Descending Order :  [60, 50, 14, 12]\n",
            "13 is Not present\n",
            "Number of elements in list :  4\n",
            "Sum of elements in list :  136\n",
            "Sum of all ODD elements in a list :  0\n",
            "Sum of all EVEN elements in a list :  136\n",
            "Sum of all the prime elements in a list :  0\n",
            "Cleared List :  []\n"
          ]
        }
      ]
    },
    {
      "cell_type": "markdown",
      "source": [
        "```\n",
        "Q2. D is a dictionary defined as D= {1:5.6, 2:7.8, 3:6.6, 4:8.7, 5:7.7}.\n",
        "(i) WAP to add new entry in D; key=8 and value is 8.8\n",
        "(ii) WAP to remove key=2.\n",
        "(iii) WAP to check weather 6 key is present in D.\n",
        "(iv) WAP to count the number of elements present in D.\n",
        "(v) WAP to add all the values present D.\n",
        "(vi) WAP to update the value of 3 to 7.1.\n",
        "(vii) WAP to clear the dictionary.\n",
        "```"
      ],
      "metadata": {
        "id": "ajCl9m7h9Ank"
      }
    },
    {
      "cell_type": "code",
      "source": [
        "D = {1:5.6, 2:7.8, 3:6.6, 4:8.7, 5:7.7}\n",
        "\n",
        "D[8] = 8.8    # add new entry in D; key=8 and value is 8.8\n",
        "print(\"After Adding: \",D)\n",
        "\n",
        "del(D[2])   # to remove key=2.\n",
        "print(\"After deleting: \",D)\n",
        "\n",
        "print(\"6 is present : \", 6 in D)   #  to check weather 6 key is present in D.\n",
        "\n",
        "count = 0    # count the number of elements present in D.\n",
        "for k in D:\n",
        "  count = count + 1\n",
        "print(count)\n",
        "\n",
        "sum = 0    # add all the values present D.\n",
        "for k in D:\n",
        "  sum = sum + D[k]\n",
        "print(sum)\n",
        "\n",
        "D[3] = 7.1   # update the value of 3 to 7.1.\n",
        "print(\"After Updating: \", D)\n",
        "\n",
        "D.clear()    # clear the dictionary.\n",
        "print(\"After clearing: \", D)"
      ],
      "metadata": {
        "id": "-boSk69Z9RXv",
        "colab": {
          "base_uri": "https://localhost:8080/"
        },
        "outputId": "90f35b28-6ce3-47a7-d859-aff112bf705e"
      },
      "execution_count": null,
      "outputs": [
        {
          "output_type": "stream",
          "name": "stdout",
          "text": [
            "After Adding:  {1: 5.6, 2: 7.8, 3: 6.6, 4: 8.7, 5: 7.7, 8: 8.8}\n",
            "After deleting:  {1: 5.6, 3: 6.6, 4: 8.7, 5: 7.7, 8: 8.8}\n",
            "6 is present :  False\n",
            "5\n",
            "37.4\n",
            "After Updating:  {1: 5.6, 3: 7.1, 4: 8.7, 5: 7.7, 8: 8.8}\n",
            "After clearing:  {}\n"
          ]
        }
      ]
    },
    {
      "cell_type": "markdown",
      "source": [
        "```\n",
        "Q3. S1 is a set defined as S1= [10, 20, 30, 40, 50, 60].\n",
        "S2 is a set defined as S2= [40, 50, 60, 70, 80, 90].\n",
        "(i) WAP to add 55 and 66 in Set S1.\n",
        "(ii) WAP to remove 10 and 30 from Set S1.\n",
        "(iii) WAP to check whether 40 is present in S1.\n",
        "(iv) WAP to find the union between S1 and S2.\n",
        "(v) WAP to find the intersection between S1 and S2.\n",
        "(vi) WAP to find the S1 - S2.\n",
        "```"
      ],
      "metadata": {
        "id": "A9mIrqf8uq7Z"
      }
    },
    {
      "cell_type": "code",
      "source": [
        "S1 = set([10, 20, 30, 40, 50, 60])\n",
        "S2 = set([40, 50, 60, 70, 80, 90])\n",
        "\n",
        "S1.add(55)   # add 55 and 66 in Set S1.\n",
        "S1.add(66)\n",
        "print(\"After adding: \", S1)\n",
        "\n",
        "S1.remove(10)   # remove 10 and 30 from Set S1.\n",
        "S1.remove(30)\n",
        "print(\"After removing: \",S1)\n",
        "\n",
        "print(\"40 is present: \", 40 in S1)  # check whether 40 is present in S1.\n",
        "\n",
        "print(\"Union: \", S1.union(S2))  # find the union between S1 and S2.\n",
        "\n",
        "print(\"Intersection: \", S1.intersection(S2))   # find the intersection between S1 and S2.\n",
        "\n",
        "print(\"Difference: \", S1-S2)   # find the S1 - S2."
      ],
      "metadata": {
        "colab": {
          "base_uri": "https://localhost:8080/"
        },
        "id": "Sf0JwGmxu6gL",
        "outputId": "e8c23afd-6c29-45a7-a42f-33603c5c8311"
      },
      "execution_count": null,
      "outputs": [
        {
          "output_type": "stream",
          "name": "stdout",
          "text": [
            "After adding:  {66, 40, 10, 50, 20, 55, 60, 30}\n",
            "After removing:  {66, 40, 50, 20, 55, 60}\n",
            "40 is present:  True\n",
            "Union:  {66, 70, 40, 80, 50, 20, 55, 90, 60}\n",
            "Intersection:  {40, 50, 60}\n",
            "Difference:  {66, 20, 55}\n"
          ]
        }
      ]
    },
    {
      "cell_type": "markdown",
      "source": [
        "```\n",
        "Q4. Write the following program.\n",
        "(i) WAP to print 100 random strings whose length between 6 and 8.\n",
        "(ii) WAP to print all prime numbers between 600 and 800.\n",
        "(iii) WAP to print all numbers between 100 and 1000 that are divisible by 7 and 9.\n",
        "```"
      ],
      "metadata": {
        "id": "8P91qD5CyhAt"
      }
    },
    {
      "cell_type": "code",
      "source": [
        "# WAP to print 100 random strings whose length between 6 and 8.\n",
        "import string as s\n",
        "import random as r\n",
        "\n",
        "for i in range(0,101):\n",
        "  length = r.randint(6,8)\n",
        "  random = r.sample(s.ascii_letters,length)\n",
        "  random = \"\".join(random)\n",
        "  print(\"String : \", random)\n",
        "\n",
        "\n",
        "# WAP to print all prime numbers between 600 and 800.\n",
        "print(\" \")\n",
        "for i in range(600,801):\n",
        "  flag = 1\n",
        "  for j in range(2,401):\n",
        "    if(i%j==0): \n",
        "      flag = 0\n",
        "      break\n",
        "  if(flag == 1):\n",
        "    print(i)\n",
        "\n",
        "# WAP to print all numbers between 100 and 1000 that are divisible by 7 and 9.\n",
        "print(\" \")\n",
        "for i in range(100,1000):\n",
        "  if(i%7==0):\n",
        "    if(i%9==0):\n",
        "      print(i)"
      ],
      "metadata": {
        "colab": {
          "base_uri": "https://localhost:8080/"
        },
        "id": "NYqgXcRiOF1V",
        "outputId": "2f137874-3aa3-41b3-9ad9-1fd5684b1bf7"
      },
      "execution_count": null,
      "outputs": [
        {
          "output_type": "stream",
          "name": "stdout",
          "text": [
            "String :  soMlytUj\n",
            "String :  Qlshug\n",
            "String :  PUDshJG\n",
            "String :  fZnFbhMm\n",
            "String :  SMQAEW\n",
            "String :  xtfGrJW\n",
            "String :  iStGkz\n",
            "String :  enrhod\n",
            "String :  ArgMBe\n",
            "String :  ZInYvptc\n",
            "String :  EhKpTYzO\n",
            "String :  sHhGyCPm\n",
            "String :  OlRjCrqs\n",
            "String :  EiLuvJN\n",
            "String :  lqXBscTr\n",
            "String :  oeahFqk\n",
            "String :  wETAKs\n",
            "String :  BxQtGuqM\n",
            "String :  XlcCnW\n",
            "String :  MnIqEfLi\n",
            "String :  ojAUMeY\n",
            "String :  QpclqXj\n",
            "String :  JcNpEzwy\n",
            "String :  iqlrHAZ\n",
            "String :  KNaehGrM\n",
            "String :  RTNGWCi\n",
            "String :  HPxrFc\n",
            "String :  rjqfCFGi\n",
            "String :  CgsmYZrx\n",
            "String :  dKWIoE\n",
            "String :  CLKqBG\n",
            "String :  QEldopP\n",
            "String :  ExerwNgn\n",
            "String :  TDNEAgQ\n",
            "String :  aUBjcDR\n",
            "String :  XkSILs\n",
            "String :  SYXRvI\n",
            "String :  OkjrbY\n",
            "String :  rhyXIPl\n",
            "String :  vuTGwgo\n",
            "String :  ECwaqAoz\n",
            "String :  LSNkCnea\n",
            "String :  deusqiwy\n",
            "String :  dkvqGzWu\n",
            "String :  iaJvVUw\n",
            "String :  sVkTlJ\n",
            "String :  OvlBWKT\n",
            "String :  OKZtmfT\n",
            "String :  uLxkop\n",
            "String :  Bvpgib\n",
            "String :  QRKbGZ\n",
            "String :  xZnoPfsi\n",
            "String :  kFWeExVO\n",
            "String :  csdCUb\n",
            "String :  YODiXFNC\n",
            "String :  CbmzsP\n",
            "String :  HlnSIEm\n",
            "String :  hTlCBwf\n",
            "String :  biOFAQt\n",
            "String :  qkUGReZ\n",
            "String :  JTVxFBtQ\n",
            "String :  qxJIuv\n",
            "String :  AsOTwoIn\n",
            "String :  PybrlM\n",
            "String :  syUPmd\n",
            "String :  tdiDarQf\n",
            "String :  CxeHbt\n",
            "String :  ICPfKYB\n",
            "String :  jHflgBK\n",
            "String :  xkvZAN\n",
            "String :  FnxJEHl\n",
            "String :  gLtrTmXc\n",
            "String :  cpXEJGmM\n",
            "String :  uUenLdXk\n",
            "String :  njBlaI\n",
            "String :  Zmcbrhzp\n",
            "String :  MDzeSVXg\n",
            "String :  SyrdQPj\n",
            "String :  gLHxTfi\n",
            "String :  HQtfgCYh\n",
            "String :  dOCSLV\n",
            "String :  NTuwrfxV\n",
            "String :  dbiZxeB\n",
            "String :  EKtPba\n",
            "String :  LOHKGn\n",
            "String :  wbroqfJz\n",
            "String :  yXxOdW\n",
            "String :  VGKNrkHR\n",
            "String :  uZHhRm\n",
            "String :  HCxgvFYR\n",
            "String :  JNCzZqYu\n",
            "String :  fxTFpbO\n",
            "String :  lfkeAx\n",
            "String :  AbnqVDT\n",
            "String :  HzLXuM\n",
            "String :  nowlLPO\n",
            "String :  mJwuxXT\n",
            "String :  vuYOaxci\n",
            "String :  dbwpWo\n",
            "String :  amFsMRG\n",
            "String :  DefTLtc\n",
            " \n",
            "601\n",
            "607\n",
            "613\n",
            "617\n",
            "619\n",
            "631\n",
            "641\n",
            "643\n",
            "647\n",
            "653\n",
            "659\n",
            "661\n",
            "673\n",
            "677\n",
            "683\n",
            "691\n",
            "701\n",
            "709\n",
            "719\n",
            "727\n",
            "733\n",
            "739\n",
            "743\n",
            "751\n",
            "757\n",
            "761\n",
            "769\n",
            "773\n",
            "787\n",
            "797\n",
            " \n",
            "126\n",
            "189\n",
            "252\n",
            "315\n",
            "378\n",
            "441\n",
            "504\n",
            "567\n",
            "630\n",
            "693\n",
            "756\n",
            "819\n",
            "882\n",
            "945\n"
          ]
        }
      ]
    },
    {
      "cell_type": "markdown",
      "source": [
        "```\n",
        "Q5. WAP to create two lists of 10 random numbers between 10 and 30; Find\n",
        "(i) Common numbers in the two lists\n",
        "(ii) Unique numbers in both the list\n",
        "(iii) Minimum in both the list\n",
        "(iv) Maximum in both the list\n",
        "(v) Sum of both the lists\n",
        "```"
      ],
      "metadata": {
        "id": "7QOf0j25TmqM"
      }
    },
    {
      "cell_type": "code",
      "source": [
        "import random as r\n",
        "b1 = []\n",
        "b2 = []\n",
        "for i in range(0,10):\n",
        "  b1 = b1 + [r.randint(10,30)] \n",
        "  b2 = b2 + [r.randint(10,30)]\n",
        "print(\"List 1: \", b1)\n",
        "print(\"List 2: \", b2)\n",
        "\n",
        "# Common numbers in the two lists\n",
        "l1 = set(b1)\n",
        "l2 = set(b2)\n",
        "print(\"Common numbers: \", l1.intersection(l2))\n",
        "\n",
        "# Unique numbers in both the list\n",
        "print(\"Unique in list 1: \", l1)\n",
        "print(\"Unique in list 2: \", l2)\n",
        "\n",
        "# Minimum in both the list\n",
        "print(\"Minimum in list 1: \", min(l1))\n",
        "print(\"Minimum in list 2: \", min(l2))\n",
        "\n",
        "# Maximum in both the list\n",
        "print(\"Maximum in list 1: \", max(l1))\n",
        "print(\"Maximum in list 2: \", max(l2))\n",
        "\n",
        "# Sum of both the lists\n",
        "sum1 = 0\n",
        "sum2 = 0\n",
        "for i in range(0,10):\n",
        "  sum1 = sum1 + b1[i]\n",
        "  sum2 = sum2 + b2[i]\n",
        "\n",
        "print(\"Sum of list 1: \", sum1)\n",
        "print(\"Sum of list 2: \", sum2)"
      ],
      "metadata": {
        "colab": {
          "base_uri": "https://localhost:8080/"
        },
        "id": "IRJFVbR7T7Ts",
        "outputId": "8326c7b1-31fc-4bb4-e940-282f92703faa"
      },
      "execution_count": null,
      "outputs": [
        {
          "output_type": "stream",
          "name": "stdout",
          "text": [
            "List 1:  [10, 24, 27, 16, 22, 24, 19, 14, 20, 16]\n",
            "List 2:  [28, 10, 12, 16, 21, 12, 12, 25, 24, 21]\n",
            "Common numbers:  {16, 24, 10}\n",
            "Unique in list 1:  {10, 14, 16, 19, 20, 22, 24, 27}\n",
            "Unique in list 2:  {10, 12, 16, 21, 24, 25, 28}\n",
            "Minimum in list 1:  10\n",
            "Minimum in list 2:  10\n",
            "Maximum in list 1:  27\n",
            "Maximum in list 2:  28\n",
            "Sum of list 1:  192\n",
            "Sum of list 2:  181\n"
          ]
        }
      ]
    },
    {
      "cell_type": "markdown",
      "source": [
        "```\n",
        "Q6. WAP to create a list of 100 random numbers between 100 and 900. Count and print the:\n",
        "(i) All odd numbers\n",
        "(ii) All even numbers\n",
        "(iii) All prime numbers\n",
        "```"
      ],
      "metadata": {
        "id": "l4OW8S4jaTaT"
      }
    },
    {
      "cell_type": "code",
      "source": [
        "import random as r\n",
        "b1 = []\n",
        "for i in range(0,100):\n",
        "  b1 = b1 + [r.randint(100,900)]\n",
        "print(b1)\n",
        "\n",
        "# All odd numbers\n",
        "print(\"Odd numers are :\")\n",
        "for i in range(0,100):\n",
        "  if(b1[i]%2!=0):\n",
        "    print(b1[i])\n",
        "\n",
        "# All even numbers\n",
        "print(\"Even numers are :\")\n",
        "for i in range(0,100):\n",
        "  if(b1[i]%2==0):\n",
        "    print(b1[i])\n",
        "\n",
        "# All prime numbers\n",
        "print(\"Prime numbers are :\")\n",
        "for i in range(0,100):\n",
        "  flag = 1\n",
        "  for j in range(2,450):\n",
        "    if(b1[i]%j==0):\n",
        "      flag = 0\n",
        "      break\n",
        "  if(flag == 1):\n",
        "    print(b1[i])"
      ],
      "metadata": {
        "colab": {
          "base_uri": "https://localhost:8080/"
        },
        "id": "yi9xxOtJaWdX",
        "outputId": "f8ab5e2b-c1c3-4cdb-f36d-70a5bbe0cc55"
      },
      "execution_count": null,
      "outputs": [
        {
          "output_type": "stream",
          "name": "stdout",
          "text": [
            "[601, 442, 690, 776, 548, 210, 403, 173, 753, 854, 107, 594, 153, 504, 522, 413, 629, 564, 872, 674, 454, 280, 808, 446, 328, 241, 837, 852, 498, 388, 828, 755, 510, 518, 482, 545, 641, 707, 414, 692, 621, 501, 525, 210, 794, 846, 234, 789, 396, 782, 541, 751, 771, 682, 202, 297, 602, 561, 523, 676, 861, 221, 322, 401, 572, 457, 794, 670, 427, 669, 141, 174, 509, 843, 596, 293, 533, 254, 266, 388, 810, 176, 763, 537, 133, 133, 716, 872, 468, 721, 526, 175, 807, 478, 614, 468, 281, 890, 449, 492]\n",
            "Odd numers are :\n",
            "601\n",
            "403\n",
            "173\n",
            "753\n",
            "107\n",
            "153\n",
            "413\n",
            "629\n",
            "241\n",
            "837\n",
            "755\n",
            "545\n",
            "641\n",
            "707\n",
            "621\n",
            "501\n",
            "525\n",
            "789\n",
            "541\n",
            "751\n",
            "771\n",
            "297\n",
            "561\n",
            "523\n",
            "861\n",
            "221\n",
            "401\n",
            "457\n",
            "427\n",
            "669\n",
            "141\n",
            "509\n",
            "843\n",
            "293\n",
            "533\n",
            "763\n",
            "537\n",
            "133\n",
            "133\n",
            "721\n",
            "175\n",
            "807\n",
            "281\n",
            "449\n",
            "Even numers are :\n",
            "442\n",
            "690\n",
            "776\n",
            "548\n",
            "210\n",
            "854\n",
            "594\n",
            "504\n",
            "522\n",
            "564\n",
            "872\n",
            "674\n",
            "454\n",
            "280\n",
            "808\n",
            "446\n",
            "328\n",
            "852\n",
            "498\n",
            "388\n",
            "828\n",
            "510\n",
            "518\n",
            "482\n",
            "414\n",
            "692\n",
            "210\n",
            "794\n",
            "846\n",
            "234\n",
            "396\n",
            "782\n",
            "682\n",
            "202\n",
            "602\n",
            "676\n",
            "322\n",
            "572\n",
            "794\n",
            "670\n",
            "174\n",
            "596\n",
            "254\n",
            "266\n",
            "388\n",
            "810\n",
            "176\n",
            "716\n",
            "872\n",
            "468\n",
            "526\n",
            "478\n",
            "614\n",
            "468\n",
            "890\n",
            "492\n",
            "Prime numbers are :\n",
            "601\n",
            "641\n",
            "541\n",
            "751\n",
            "523\n",
            "457\n",
            "509\n"
          ]
        }
      ]
    },
    {
      "cell_type": "markdown",
      "source": [
        "```\n",
        "Q7. D is a dictionary defined as D={1:\"One\",2:\"Two\",3:\"Three\",4:\"Four\", 5:\"Five\"}.\n",
        "WAP to read all the keys and values from dictionary and write to the file in the given below format.\n",
        "Key1, Value1\n",
        "Key2, Value2\n",
        "Key3, Value3\n",
        "```"
      ],
      "metadata": {
        "id": "YyO_KZdZHeMX"
      }
    },
    {
      "cell_type": "code",
      "source": [
        "D={1:\"One\",2:\"Two\",3:\"Three\",4:\"Four\", 5:\"Five\"}\n",
        "f = open('result.txt','w')\n",
        "\n",
        "for i in D:\n",
        "  f.write(str(i) + \" \")\n",
        "  f.write(str(D[i]) + '\\n')\n",
        "f.close()"
      ],
      "metadata": {
        "id": "0j_W3lmpHmSV"
      },
      "execution_count": null,
      "outputs": []
    },
    {
      "cell_type": "markdown",
      "source": [
        "```\n",
        "Q8. L is a list defined as L={\"One\",\"Two\",\"Three\",\"Four\",\"Five\"}.\n",
        "WAP to count the length of reach element from a list and write to the file in the given below format:\n",
        "One, 3\n",
        "Two, 3\n",
        "Four, 4\n",
        "```"
      ],
      "metadata": {
        "id": "d7d6tA0DOyKQ"
      }
    },
    {
      "cell_type": "code",
      "source": [
        "L=[\"One\",\"Two\",\"Three\",\"Four\",\"Five\"]\n",
        "\n",
        "f = open('result.txt','w')\n",
        "\n",
        "for i in range(0,len(L)):\n",
        "  f.write(L[i] + \" , \")\n",
        "  f.write(str(len(L[i])) + '\\n')\n",
        "f.close()"
      ],
      "metadata": {
        "id": "PHf_l6rBO7bO"
      },
      "execution_count": null,
      "outputs": []
    },
    {
      "cell_type": "markdown",
      "source": [
        "```\n",
        "Q9. Write to the file 100 random strings whose length between 10 and 15.\n",
        "```"
      ],
      "metadata": {
        "id": "cRyrxVQIQHAV"
      }
    },
    {
      "cell_type": "code",
      "source": [
        "import string as s\n",
        "import random as r\n",
        "\n",
        "f = open('result.txt', 'w')\n",
        "\n",
        "for i in range(0,100):\n",
        "  length = r.randint(10,15)\n",
        "  s1 = r.sample(s.ascii_letters, length)\n",
        "  s1 = \"\".join(s1)\n",
        "\n",
        "  f.write(s1 + '\\n')\n",
        "f.close()"
      ],
      "metadata": {
        "id": "tEQ-Vbc8QPEc"
      },
      "execution_count": null,
      "outputs": []
    },
    {
      "cell_type": "markdown",
      "source": [
        "```\n",
        "Q10. Write to the file all prime numbers between 600 and 800.\n",
        "```"
      ],
      "metadata": {
        "id": "91KTbgbzSNeS"
      }
    },
    {
      "cell_type": "code",
      "source": [
        "f = open('result.txt', 'w')\n",
        "\n",
        "for i in range(600,801):\n",
        "  flag = 1\n",
        "  for j in range(2,401):\n",
        "    if(i%j==0):\n",
        "      flag = 0\n",
        "      break\n",
        "  if(flag == 1):\n",
        "    f.write(str(i) + '\\n')"
      ],
      "metadata": {
        "id": "PuWL4-gCSVZN"
      },
      "execution_count": null,
      "outputs": []
    },
    {
      "cell_type": "markdown",
      "source": [
        "```\n",
        "Q11. WAP to calculate the time taken by a program.\n",
        "```"
      ],
      "metadata": {
        "id": "SWL48gevTAzn"
      }
    },
    {
      "cell_type": "code",
      "source": [
        "import time\n",
        "\n",
        "# Start the timer\n",
        "start_time = time.time()\n",
        "\n",
        "f = open('result.txt', 'w')\n",
        "\n",
        "for i in range(600,801):\n",
        "  flag = 1\n",
        "  for j in range(2,401):\n",
        "    if(i%j==0):\n",
        "      flag = 0\n",
        "      break\n",
        "  if(flag == 1):\n",
        "    f.write(str(i) + '\\n')\n",
        "\n",
        "\n",
        "# End the timer\n",
        "end_time = time.time()\n",
        "\n",
        "elapsed_time = end_time - start_time\n",
        "print(\"Elapsed time: \", elapsed_time, \" seconds\")"
      ],
      "metadata": {
        "colab": {
          "base_uri": "https://localhost:8080/"
        },
        "id": "gb9BMmnwTJHn",
        "outputId": "93ac09c6-fc5b-46aa-f7df-5400ad49ba48"
      },
      "execution_count": null,
      "outputs": [
        {
          "output_type": "stream",
          "name": "stdout",
          "text": [
            "Elapsed time:  0.0034208297729492188  seconds\n"
          ]
        }
      ]
    },
    {
      "cell_type": "markdown",
      "source": [
        "```\n",
        "Q12. WAP to sort following number of elements in a list, calculate time taken and plot the graph.\n",
        "Number of elements in list    Time Taken\n",
        "5k                               T1\n",
        "10k                              T2\n",
        "15k                              T3\n",
        "20k                              T4\n",
        "25k                              T5\n",
        "```"
      ],
      "metadata": {
        "id": "AingllaFTn6j"
      }
    },
    {
      "cell_type": "code",
      "source": [
        "import time\n",
        "import random as r\n",
        "import matplotlib.pyplot as plt\n",
        "\n",
        "elapsed_time = []\n",
        "l = []\n",
        "len = 5000\n",
        "\n",
        "for i in range(0,5):\n",
        "  start_time = time.time()\n",
        "\n",
        "  for j in range(0,len):\n",
        "    num = r.randint(0,len)\n",
        "    l = l + [num]\n",
        "\n",
        "  l.sort()\n",
        "  end_time = time.time()\n",
        "  elapsed_time = elapsed_time + [end_time - start_time]\n",
        "  len = len + 5000\n",
        "\n",
        "print(elapsed_time)\n",
        "\n",
        "x = [5000,10000,15000,20000,25000]\n",
        "plt.plot(x, elapsed_time)\n",
        "\n",
        "plt.xlabel('Number of Elements')\n",
        "plt.ylabel('Time Taken')\n",
        "\n",
        "plt.show()"
      ],
      "metadata": {
        "colab": {
          "base_uri": "https://localhost:8080/",
          "height": 466
        },
        "id": "Qyey25UDT8ey",
        "outputId": "a21f09e6-79e5-484a-e845-e1a3c9459b66"
      },
      "execution_count": 34,
      "outputs": [
        {
          "output_type": "stream",
          "name": "stdout",
          "text": [
            "[0.04345989227294922, 0.2859020233154297, 1.1428704261779785, 3.9905190467834473, 8.03545594215393]\n"
          ]
        },
        {
          "output_type": "display_data",
          "data": {
            "text/plain": [
              "<Figure size 640x480 with 1 Axes>"
            ],
            "image/png": "[encoded data removed]"
          },
          "metadata": {}
        }
      ]
    },
    {
      "cell_type": "markdown",
      "source": [
        "```\n",
        "Q13. WAP to create a dictionary of student marks in five subjects and you have to find the student\n",
        "having maximum and minimum average marks.\n",
        "```"
      ],
      "metadata": {
        "id": "QnLzosW0Uh2I"
      }
    },
    {
      "cell_type": "code",
      "source": [
        "l = []\n",
        "for i in range(1,6):\n",
        "  num = int(input(\"Enter the marks in subject \" +  str(i) + \": \"))\n",
        "  l = l + [num]\n",
        "print(\"Marks are: \", l)\n",
        "print(\"Maximum marks: \",max(l))\n",
        "print(\"Minimum marks: \",min(l))\n",
        "print(\"Average marks: \",sum(l)/len(l))"
      ],
      "metadata": {
        "colab": {
          "base_uri": "https://localhost:8080/"
        },
        "id": "leGhuZxZUk1G",
        "outputId": "b485c7ce-571d-4c21-dc94-b19f4fd05f32"
      },
      "execution_count": null,
      "outputs": [
        {
          "output_type": "stream",
          "name": "stdout",
          "text": [
            "Enter the marks in subject 1: 5\n",
            "Enter the marks in subject 2: 8\n",
            "Enter the marks in subject 3: 7\n",
            "Enter the marks in subject 4: 2\n",
            "Enter the marks in subject 5: 4\n",
            "Marks are:  [5, 8, 7, 2, 4]\n",
            "Maximum marks:  8\n",
            "Minimum marks:  2\n",
            "Average marks:  5.2\n"
          ]
        }
      ]
    }
  ]
}